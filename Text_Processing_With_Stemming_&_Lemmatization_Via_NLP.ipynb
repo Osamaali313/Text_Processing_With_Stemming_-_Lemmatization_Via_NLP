{
  "nbformat": 4,
  "nbformat_minor": 0,
  "metadata": {
    "colab": {
      "provenance": [],
      "gpuType": "T4"
    },
    "kernelspec": {
      "name": "python3",
      "display_name": "Python 3"
    },
    "language_info": {
      "name": "python"
    },
    "accelerator": "GPU"
  },
  "cells": [
    {
      "cell_type": "code",
      "execution_count": 1,
      "metadata": {
        "id": "cyQGjnpBtMxZ"
      },
      "outputs": [],
      "source": [
        "%%bash\n",
        "pip3 -qqq install nltk\n",
        "pip3 -qqq install spacy\n",
        "pip3 -qqq install scikit-learn"
      ]
    },
    {
      "cell_type": "code",
      "source": [
        "import nltk\n",
        "nltk.download('punkt')\n",
        "import spacy\n",
        "from sklearn.datasets import fetch_20newsgroups"
      ],
      "metadata": {
        "colab": {
          "base_uri": "https://localhost:8080/"
        },
        "id": "cekPQzDate6m",
        "outputId": "d53ac568-b335-46d7-8c4d-a1779ad377d9"
      },
      "execution_count": 2,
      "outputs": [
        {
          "output_type": "stream",
          "name": "stderr",
          "text": [
            "[nltk_data] Downloading package punkt to /root/nltk_data...\n",
            "[nltk_data]   Unzipping tokenizers/punkt.zip.\n"
          ]
        }
      ]
    },
    {
      "cell_type": "code",
      "source": [
        "news_data = fetch_20newsgroups(subset='all')\n",
        "articles = news_data.data"
      ],
      "metadata": {
        "id": "0Bho3CrltiIu"
      },
      "execution_count": 3,
      "outputs": []
    },
    {
      "cell_type": "code",
      "source": [
        "len(articles)"
      ],
      "metadata": {
        "colab": {
          "base_uri": "https://localhost:8080/"
        },
        "id": "i1xinYqCtkpp",
        "outputId": "a7fd8139-50e5-4d37-ace8-ebc23de5d9c5"
      },
      "execution_count": 4,
      "outputs": [
        {
          "output_type": "execute_result",
          "data": {
            "text/plain": [
              "18846"
            ]
          },
          "metadata": {},
          "execution_count": 4
        }
      ]
    },
    {
      "cell_type": "code",
      "source": [
        "print(articles[0])"
      ],
      "metadata": {
        "colab": {
          "base_uri": "https://localhost:8080/"
        },
        "id": "iHGZ6w0MtnSI",
        "outputId": "35caf1fc-a34f-4b61-9997-361c1596cb27"
      },
      "execution_count": 5,
      "outputs": [
        {
          "output_type": "stream",
          "name": "stdout",
          "text": [
            "From: Mamatha Devineni Ratnam <mr47+@andrew.cmu.edu>\n",
            "Subject: Pens fans reactions\n",
            "Organization: Post Office, Carnegie Mellon, Pittsburgh, PA\n",
            "Lines: 12\n",
            "NNTP-Posting-Host: po4.andrew.cmu.edu\n",
            "\n",
            "\n",
            "\n",
            "I am sure some bashers of Pens fans are pretty confused about the lack\n",
            "of any kind of posts about the recent Pens massacre of the Devils. Actually,\n",
            "I am  bit puzzled too and a bit relieved. However, I am going to put an end\n",
            "to non-PIttsburghers' relief with a bit of praise for the Pens. Man, they\n",
            "are killing those Devils worse than I thought. Jagr just showed you why\n",
            "he is much better than his regular season stats. He is also a lot\n",
            "fo fun to watch in the playoffs. Bowman should let JAgr have a lot of\n",
            "fun in the next couple of games since the Pens are going to beat the pulp out of Jersey anyway. I was very disappointed not to see the Islanders lose the final\n",
            "regular season game.          PENS RULE!!!\n",
            "\n",
            "\n"
          ]
        }
      ]
    },
    {
      "cell_type": "code",
      "source": [
        "from nltk.tokenize import word_tokenize, sent_tokenize"
      ],
      "metadata": {
        "id": "HOrlpt1Htqif"
      },
      "execution_count": 6,
      "outputs": []
    },
    {
      "cell_type": "code",
      "source": [
        "first_article = \"\"\"\n",
        "I am sure some bashers of Pens fans are pretty confused about the lack\n",
        "of any kind of posts about the recent Pens massacre of the Devils. Actually,\n",
        "I am  bit puzzled too and a bit relieved. However, I am going to put an end\n",
        "to non-PIttsburghers' relief with a bit of praise for the Pens. Man, they\n",
        "are killing those Devils worse than I thought. Jagr just showed you why\n",
        "he is much better than his regular season stats. He is also a lot\n",
        "fo fun to watch in the playoffs. Bowman should let JAgr have a lot of\n",
        "fun in the next couple of games since the Pens are going to beat the pulp out of Jersey anyway. I was very disappointed not to see the Islanders lose the final\n",
        "regular season game.          PENS RULE!!!\n",
        "\"\"\"\n",
        "\n",
        "word_tokens = word_tokenize(first_article)\n",
        "sentence_tokens = sent_tokenize(first_article)"
      ],
      "metadata": {
        "id": "a2yQeNwKttct"
      },
      "execution_count": 7,
      "outputs": []
    },
    {
      "cell_type": "code",
      "source": [
        "print(word_tokens)"
      ],
      "metadata": {
        "colab": {
          "base_uri": "https://localhost:8080/"
        },
        "id": "ErbROEHFtwp-",
        "outputId": "342ff191-99c7-496f-912c-755a461652e7"
      },
      "execution_count": 8,
      "outputs": [
        {
          "output_type": "stream",
          "name": "stdout",
          "text": [
            "['I', 'am', 'sure', 'some', 'bashers', 'of', 'Pens', 'fans', 'are', 'pretty', 'confused', 'about', 'the', 'lack', 'of', 'any', 'kind', 'of', 'posts', 'about', 'the', 'recent', 'Pens', 'massacre', 'of', 'the', 'Devils', '.', 'Actually', ',', 'I', 'am', 'bit', 'puzzled', 'too', 'and', 'a', 'bit', 'relieved', '.', 'However', ',', 'I', 'am', 'going', 'to', 'put', 'an', 'end', 'to', 'non-PIttsburghers', \"'\", 'relief', 'with', 'a', 'bit', 'of', 'praise', 'for', 'the', 'Pens', '.', 'Man', ',', 'they', 'are', 'killing', 'those', 'Devils', 'worse', 'than', 'I', 'thought', '.', 'Jagr', 'just', 'showed', 'you', 'why', 'he', 'is', 'much', 'better', 'than', 'his', 'regular', 'season', 'stats', '.', 'He', 'is', 'also', 'a', 'lot', 'fo', 'fun', 'to', 'watch', 'in', 'the', 'playoffs', '.', 'Bowman', 'should', 'let', 'JAgr', 'have', 'a', 'lot', 'of', 'fun', 'in', 'the', 'next', 'couple', 'of', 'games', 'since', 'the', 'Pens', 'are', 'going', 'to', 'beat', 'the', 'pulp', 'out', 'of', 'Jersey', 'anyway', '.', 'I', 'was', 'very', 'disappointed', 'not', 'to', 'see', 'the', 'Islanders', 'lose', 'the', 'final', 'regular', 'season', 'game', '.', 'PENS', 'RULE', '!', '!', '!']\n"
          ]
        }
      ]
    },
    {
      "cell_type": "code",
      "source": [
        "print(sentence_tokens)"
      ],
      "metadata": {
        "colab": {
          "base_uri": "https://localhost:8080/"
        },
        "id": "RoZLFHKlt0zj",
        "outputId": "9e883e33-d83b-4a17-8736-dad9a4677f85"
      },
      "execution_count": 9,
      "outputs": [
        {
          "output_type": "stream",
          "name": "stdout",
          "text": [
            "[' \\nI am sure some bashers of Pens fans are pretty confused about the lack\\nof any kind of posts about the recent Pens massacre of the Devils.', 'Actually,\\nI am  bit puzzled too and a bit relieved.', \"However, I am going to put an end\\nto non-PIttsburghers' relief with a bit of praise for the Pens.\", 'Man, they\\nare killing those Devils worse than I thought.', 'Jagr just showed you why\\nhe is much better than his regular season stats.', 'He is also a lot\\nfo fun to watch in the playoffs.', 'Bowman should let JAgr have a lot of\\nfun in the next couple of games since the Pens are going to beat the pulp out of Jersey anyway.', 'I was very disappointed not to see the Islanders lose the final\\nregular season game.', 'PENS RULE!!', '!']\n"
          ]
        }
      ]
    },
    {
      "cell_type": "code",
      "source": [
        "for sent in sentence_tokens:\n",
        "    print(sent)\n",
        "    print(\"\\n\")"
      ],
      "metadata": {
        "colab": {
          "base_uri": "https://localhost:8080/"
        },
        "id": "8W0L-byHt4T8",
        "outputId": "ede32a14-a3bf-4e47-85a8-7e1a45b66fee"
      },
      "execution_count": 10,
      "outputs": [
        {
          "output_type": "stream",
          "name": "stdout",
          "text": [
            " \n",
            "I am sure some bashers of Pens fans are pretty confused about the lack\n",
            "of any kind of posts about the recent Pens massacre of the Devils.\n",
            "\n",
            "\n",
            "Actually,\n",
            "I am  bit puzzled too and a bit relieved.\n",
            "\n",
            "\n",
            "However, I am going to put an end\n",
            "to non-PIttsburghers' relief with a bit of praise for the Pens.\n",
            "\n",
            "\n",
            "Man, they\n",
            "are killing those Devils worse than I thought.\n",
            "\n",
            "\n",
            "Jagr just showed you why\n",
            "he is much better than his regular season stats.\n",
            "\n",
            "\n",
            "He is also a lot\n",
            "fo fun to watch in the playoffs.\n",
            "\n",
            "\n",
            "Bowman should let JAgr have a lot of\n",
            "fun in the next couple of games since the Pens are going to beat the pulp out of Jersey anyway.\n",
            "\n",
            "\n",
            "I was very disappointed not to see the Islanders lose the final\n",
            "regular season game.\n",
            "\n",
            "\n",
            "PENS RULE!!\n",
            "\n",
            "\n",
            "!\n",
            "\n",
            "\n"
          ]
        }
      ]
    },
    {
      "cell_type": "code",
      "source": [
        "from nltk.corpus import stopwords"
      ],
      "metadata": {
        "id": "7L_RfUIOt7SZ"
      },
      "execution_count": 11,
      "outputs": []
    },
    {
      "cell_type": "code",
      "source": [
        "import nltk # make sure to import nltk\n",
        "\n",
        "nltk.download('stopwords') # download the stopwords resource\n",
        "\n",
        "from nltk.corpus import stopwords\n",
        "\n",
        "# Acquire the stop words\n",
        "english_stw = stopwords.words(\"english\")"
      ],
      "metadata": {
        "colab": {
          "base_uri": "https://localhost:8080/"
        },
        "id": "-Y0hlRqst-bO",
        "outputId": "44d95408-3099-4739-a6f5-46baf92b76e8"
      },
      "execution_count": 14,
      "outputs": [
        {
          "output_type": "stream",
          "name": "stderr",
          "text": [
            "[nltk_data] Downloading package stopwords to /root/nltk_data...\n",
            "[nltk_data]   Unzipping corpora/stopwords.zip.\n"
          ]
        }
      ]
    },
    {
      "cell_type": "code",
      "source": [
        "non_stop_words = [word for word in word_tokens if word not in english_stw]\n",
        "print(non_stop_words)"
      ],
      "metadata": {
        "colab": {
          "base_uri": "https://localhost:8080/"
        },
        "id": "p8bu-xfXuBNb",
        "outputId": "4c058bc3-bb24-4008-f942-32145453cce9"
      },
      "execution_count": 15,
      "outputs": [
        {
          "output_type": "stream",
          "name": "stdout",
          "text": [
            "['I', 'sure', 'bashers', 'Pens', 'fans', 'pretty', 'confused', 'lack', 'kind', 'posts', 'recent', 'Pens', 'massacre', 'Devils', '.', 'Actually', ',', 'I', 'bit', 'puzzled', 'bit', 'relieved', '.', 'However', ',', 'I', 'going', 'put', 'end', 'non-PIttsburghers', \"'\", 'relief', 'bit', 'praise', 'Pens', '.', 'Man', ',', 'killing', 'Devils', 'worse', 'I', 'thought', '.', 'Jagr', 'showed', 'much', 'better', 'regular', 'season', 'stats', '.', 'He', 'also', 'lot', 'fo', 'fun', 'watch', 'playoffs', '.', 'Bowman', 'let', 'JAgr', 'lot', 'fun', 'next', 'couple', 'games', 'since', 'Pens', 'going', 'beat', 'pulp', 'Jersey', 'anyway', '.', 'I', 'disappointed', 'see', 'Islanders', 'lose', 'final', 'regular', 'season', 'game', '.', 'PENS', 'RULE', '!', '!', '!']\n"
          ]
        }
      ]
    },
    {
      "cell_type": "code",
      "source": [
        "import string\n",
        "\n",
        "without_punct = list(filter(lambda word: word not in string.punctuation, non_stop_words))\n",
        "\n",
        "print(without_punct)"
      ],
      "metadata": {
        "colab": {
          "base_uri": "https://localhost:8080/"
        },
        "id": "B9CzR3XvuDqW",
        "outputId": "61630070-48cb-45f0-bd07-a22a7697fdf2"
      },
      "execution_count": 16,
      "outputs": [
        {
          "output_type": "stream",
          "name": "stdout",
          "text": [
            "['I', 'sure', 'bashers', 'Pens', 'fans', 'pretty', 'confused', 'lack', 'kind', 'posts', 'recent', 'Pens', 'massacre', 'Devils', 'Actually', 'I', 'bit', 'puzzled', 'bit', 'relieved', 'However', 'I', 'going', 'put', 'end', 'non-PIttsburghers', 'relief', 'bit', 'praise', 'Pens', 'Man', 'killing', 'Devils', 'worse', 'I', 'thought', 'Jagr', 'showed', 'much', 'better', 'regular', 'season', 'stats', 'He', 'also', 'lot', 'fo', 'fun', 'watch', 'playoffs', 'Bowman', 'let', 'JAgr', 'lot', 'fun', 'next', 'couple', 'games', 'since', 'Pens', 'going', 'beat', 'pulp', 'Jersey', 'anyway', 'I', 'disappointed', 'see', 'Islanders', 'lose', 'final', 'regular', 'season', 'game', 'PENS', 'RULE']\n"
          ]
        }
      ]
    },
    {
      "cell_type": "code",
      "source": [
        "# @title Stemming & Lemmatization\n",
        "\n",
        "sample_text = \"\"\"This thing really confuses.\n",
        "                 But you confuse me more than what is written here.\n",
        "                 So stay away from explaining things you do not understand.\n",
        "              \"\"\"\n",
        "\n",
        "from nltk.stem import WordNetLemmatizer\n",
        "# Download wordnet\n",
        "nltk.download('wordnet')\n",
        "nltk.download('omw-1.4')\n",
        "\n",
        "# Instanciate Lemmatizer\n",
        "my_lemmatizer = WordNetLemmatizer()\n",
        "\n",
        "\n",
        "from nltk.stem.porter import PorterStemmer\n",
        "\n",
        "# Create instance of stemmer\n",
        "my_stemmer = PorterStemmer()\n",
        "\n",
        "\n",
        "def stem_words(sentence, model=my_stemmer):\n",
        "\n",
        "    for word in sentence.split():\n",
        "        stem = model.stem(word)\n",
        "        print(\"Word: {} ---> : {}\".format(word, stem))\n",
        "\n",
        "def lemmatize_words(sentence, model = my_lemmatizer):\n",
        "\n",
        "    for word in sentence.split():\n",
        "        lemma = model.lemmatize(word)\n",
        "        print(\"Word: {} ---> : {}\".format(word, lemma))"
      ],
      "metadata": {
        "colab": {
          "base_uri": "https://localhost:8080/"
        },
        "id": "sBx7_J8iuGTt",
        "outputId": "05162457-cef0-43e4-d60c-381aae028bc9"
      },
      "execution_count": 17,
      "outputs": [
        {
          "output_type": "stream",
          "name": "stderr",
          "text": [
            "[nltk_data] Downloading package wordnet to /root/nltk_data...\n",
            "[nltk_data] Downloading package omw-1.4 to /root/nltk_data...\n"
          ]
        }
      ]
    },
    {
      "cell_type": "code",
      "source": [
        "stem_words(sample_text, model=my_stemmer)"
      ],
      "metadata": {
        "colab": {
          "base_uri": "https://localhost:8080/"
        },
        "id": "bCT_mZvHuK9n",
        "outputId": "cd946511-da44-42be-fdd3-cef75242654c"
      },
      "execution_count": 18,
      "outputs": [
        {
          "output_type": "stream",
          "name": "stdout",
          "text": [
            "Word: This ---> : thi\n",
            "Word: thing ---> : thing\n",
            "Word: really ---> : realli\n",
            "Word: confuses. ---> : confuses.\n",
            "Word: But ---> : but\n",
            "Word: you ---> : you\n",
            "Word: confuse ---> : confus\n",
            "Word: me ---> : me\n",
            "Word: more ---> : more\n",
            "Word: than ---> : than\n",
            "Word: what ---> : what\n",
            "Word: is ---> : is\n",
            "Word: written ---> : written\n",
            "Word: here. ---> : here.\n",
            "Word: So ---> : so\n",
            "Word: stay ---> : stay\n",
            "Word: away ---> : away\n",
            "Word: from ---> : from\n",
            "Word: explaining ---> : explain\n",
            "Word: things ---> : thing\n",
            "Word: you ---> : you\n",
            "Word: do ---> : do\n",
            "Word: not ---> : not\n",
            "Word: understand. ---> : understand.\n"
          ]
        }
      ]
    },
    {
      "cell_type": "code",
      "source": [
        "lemmatize_words(sample_text, model = my_lemmatizer)"
      ],
      "metadata": {
        "colab": {
          "base_uri": "https://localhost:8080/"
        },
        "id": "H5t8ZR0auOBD",
        "outputId": "a1d58a90-2a19-4113-fa79-f3fa7b8bfda8"
      },
      "execution_count": 19,
      "outputs": [
        {
          "output_type": "stream",
          "name": "stdout",
          "text": [
            "Word: This ---> : This\n",
            "Word: thing ---> : thing\n",
            "Word: really ---> : really\n",
            "Word: confuses. ---> : confuses.\n",
            "Word: But ---> : But\n",
            "Word: you ---> : you\n",
            "Word: confuse ---> : confuse\n",
            "Word: me ---> : me\n",
            "Word: more ---> : more\n",
            "Word: than ---> : than\n",
            "Word: what ---> : what\n",
            "Word: is ---> : is\n",
            "Word: written ---> : written\n",
            "Word: here. ---> : here.\n",
            "Word: So ---> : So\n",
            "Word: stay ---> : stay\n",
            "Word: away ---> : away\n",
            "Word: from ---> : from\n",
            "Word: explaining ---> : explaining\n",
            "Word: things ---> : thing\n",
            "Word: you ---> : you\n",
            "Word: do ---> : do\n",
            "Word: not ---> : not\n",
            "Word: understand. ---> : understand.\n"
          ]
        }
      ]
    },
    {
      "cell_type": "code",
      "source": [
        "# @title Part of Speech Tagging\n",
        "\n",
        "from nltk.tag import pos_tag\n",
        "nltk.download('averaged_perceptron_tagger')"
      ],
      "metadata": {
        "colab": {
          "base_uri": "https://localhost:8080/"
        },
        "id": "HQJQKCR8uQiM",
        "outputId": "65e164ea-b10f-4b34-ecc8-763218a407ce"
      },
      "execution_count": 20,
      "outputs": [
        {
          "output_type": "stream",
          "name": "stderr",
          "text": [
            "[nltk_data] Downloading package averaged_perceptron_tagger to\n",
            "[nltk_data]     /root/nltk_data...\n",
            "[nltk_data]   Unzipping taggers/averaged_perceptron_tagger.zip.\n"
          ]
        },
        {
          "output_type": "execute_result",
          "data": {
            "text/plain": [
              "True"
            ]
          },
          "metadata": {},
          "execution_count": 20
        }
      ]
    },
    {
      "cell_type": "code",
      "source": [
        "tagged_tokens = pos_tag(without_punct)\n",
        "print(tagged_tokens)"
      ],
      "metadata": {
        "colab": {
          "base_uri": "https://localhost:8080/"
        },
        "id": "Vg9o28EpuT_8",
        "outputId": "1f6d324a-b6ee-4d8e-8d64-5418749cda13"
      },
      "execution_count": 21,
      "outputs": [
        {
          "output_type": "stream",
          "name": "stdout",
          "text": [
            "[('I', 'PRP'), ('sure', 'VBP'), ('bashers', 'NNS'), ('Pens', 'NNPS'), ('fans', 'NNS'), ('pretty', 'RB'), ('confused', 'JJ'), ('lack', 'NN'), ('kind', 'NN'), ('posts', 'VBZ'), ('recent', 'JJ'), ('Pens', 'NNP'), ('massacre', 'NN'), ('Devils', 'NNP'), ('Actually', 'NNP'), ('I', 'PRP'), ('bit', 'VBP'), ('puzzled', 'JJ'), ('bit', 'NN'), ('relieved', 'VBD'), ('However', 'RB'), ('I', 'PRP'), ('going', 'VBG'), ('put', 'JJ'), ('end', 'VB'), ('non-PIttsburghers', 'NNS'), ('relief', 'JJ'), ('bit', 'NN'), ('praise', 'NN'), ('Pens', 'NNP'), ('Man', 'NNP'), ('killing', 'VBG'), ('Devils', 'NNP'), ('worse', 'NN'), ('I', 'PRP'), ('thought', 'VBD'), ('Jagr', 'NNP'), ('showed', 'VBD'), ('much', 'JJ'), ('better', 'JJR'), ('regular', 'JJ'), ('season', 'NN'), ('stats', 'NNS'), ('He', 'PRP'), ('also', 'RB'), ('lot', 'VBD'), ('fo', 'JJ'), ('fun', 'NN'), ('watch', 'NN'), ('playoffs', 'NNS'), ('Bowman', 'NNP'), ('let', 'VBP'), ('JAgr', 'NNP'), ('lot', 'NN'), ('fun', 'NN'), ('next', 'JJ'), ('couple', 'NN'), ('games', 'NNS'), ('since', 'IN'), ('Pens', 'NNP'), ('going', 'VBG'), ('beat', 'NN'), ('pulp', 'NN'), ('Jersey', 'NNP'), ('anyway', 'RB'), ('I', 'PRP'), ('disappointed', 'VBD'), ('see', 'NN'), ('Islanders', 'NNPS'), ('lose', 'VBP'), ('final', 'JJ'), ('regular', 'NN'), ('season', 'NN'), ('game', 'NN'), ('PENS', 'NNP'), ('RULE', 'NNP')]\n"
          ]
        }
      ]
    }
  ]
}